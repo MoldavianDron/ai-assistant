{
 "cells": [
  {
   "cell_type": "code",
   "execution_count": 7,
   "metadata": {},
   "outputs": [
    {
     "data": {
      "text/plain": [
       "'script_flowchart_detailed.png'"
      ]
     },
     "execution_count": 7,
     "metadata": {},
     "output_type": "execute_result"
    }
   ],
   "source": [
    "from graphviz import Digraph\n",
    "\n",
    "# Create a new Digraph object\n",
    "dot = Digraph()\n",
    "\n",
    "# Define nodes representing main steps in the script\n",
    "steps = [\n",
    "    ('Imports and Setup', 'Imports and Setup: Import necessary libraries and set up environment'),\n",
    "    ('Azure OpenAI Client Initialization', 'Azure OpenAI Client Initialization: Initialize the Azure OpenAI client with API key and endpoint'),\n",
    "    ('Utility Functions', 'Utility Functions: Define utility functions'),\n",
    "    ('Data Preprocessing', 'Data Preprocessing: Clean and preprocess text data'),\n",
    "    ('Embedding Calculation', 'Embedding Calculation: Generate embeddings for the dataset'),\n",
    "    ('Similarity Calculation', 'Similarity Calculation: Calculate similarity matrix'),\n",
    "    ('Main Loop', 'Main Loop: Iterate over dataset and process each issue'),\n",
    "    ('Finding Similar Issues', 'Finding Similar Issues: Find similar issues for each issue in dataset'),\n",
    "    ('Generating Prompts', 'Generating Prompts: Generate prompts for AI estimation'),\n",
    "    ('Requesting AI Responses', 'Requesting AI Responses: Use AI to generate responses for each prompt'),\n",
    "    ('Result Saving', 'Result Saving: Save results to files'),\n",
    "    ('End of Script', 'End of Script')\n",
    "]\n",
    "\n",
    "# Add nodes to the Digraph with descriptions\n",
    "for step in steps:\n",
    "    dot.node(step[0], label=step[1])\n",
    "\n",
    "# Define edges representing the flow of the script\n",
    "edges = [\n",
    "    ('Imports and Setup', 'Azure OpenAI Client Initialization'),\n",
    "    ('Azure OpenAI Client Initialization', 'Utility Functions'),\n",
    "    ('Utility Functions', 'Data Preprocessing'),\n",
    "    ('Data Preprocessing', 'Embedding Calculation'),\n",
    "    ('Embedding Calculation', 'Similarity Calculation'),\n",
    "    ('Similarity Calculation', 'Main Loop'),\n",
    "    ('Main Loop', 'Finding Similar Issues'),\n",
    "    ('Finding Similar Issues', 'Generating Prompts'),\n",
    "    ('Generating Prompts', 'Requesting AI Responses'),\n",
    "    ('Requesting AI Responses', 'Result Saving'),\n",
    "    ('Result Saving', 'End of Script')\n",
    "]\n",
    "\n",
    "# Add edges to the Digraph\n",
    "for edge in edges:\n",
    "    dot.edge(edge[0], edge[1])\n",
    "\n",
    "# Define constants and their descriptions\n",
    "constants = [\n",
    "    ('Constants and Setup', 'Constants and Setup:\\n- Define parameters and configurations\\n- Set up environment variables')\n",
    "]\n",
    "\n",
    "# Add nodes for constants\n",
    "for constant in constants:\n",
    "    dot.node(constant[0], label=constant[1])\n",
    "\n",
    "# Add edges for constants\n",
    "for constant in constants:\n",
    "    dot.edge(constant[0], 'Imports and Setup')\n",
    "\n",
    "# Define utility functions and their descriptions\n",
    "utility_functions = [\n",
    "    ('Utility Functions', 'Utility Functions:\\n- Define utility functions\\n- Random string generation\\n- Result directory creation\\n- Parameter saving\\n- Result saving\\n- Other utility functions')\n",
    "]\n",
    "\n",
    "# Add nodes for utility functions\n",
    "for func in utility_functions:\n",
    "    dot.node(func[0], label=func[1])\n",
    "\n",
    "# Add edges for utility functions\n",
    "# for func in utility_functions:\n",
    "#     dot.edge(func[0], 'Azure OpenAI Client Initialization')\n",
    "\n",
    "# Save the Digraph as a PNG file\n",
    "dot.render('script_flowchart_detailed', format='png', cleanup=True)\n"
   ]
  }
 ],
 "metadata": {
  "kernelspec": {
   "display_name": "venv",
   "language": "python",
   "name": "python3"
  },
  "language_info": {
   "codemirror_mode": {
    "name": "ipython",
    "version": 3
   },
   "file_extension": ".py",
   "mimetype": "text/x-python",
   "name": "python",
   "nbconvert_exporter": "python",
   "pygments_lexer": "ipython3",
   "version": "3.11.5"
  }
 },
 "nbformat": 4,
 "nbformat_minor": 2
}
